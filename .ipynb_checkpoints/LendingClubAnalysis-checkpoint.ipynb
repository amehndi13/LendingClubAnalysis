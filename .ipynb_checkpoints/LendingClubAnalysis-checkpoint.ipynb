{
 "cells": [
  {
   "cell_type": "markdown",
   "metadata": {},
   "source": [
    "# Lending Club Analysis"
   ]
  },
  {
   "cell_type": "markdown",
   "metadata": {},
   "source": [
    "#### Anuj Mehndiratta"
   ]
  },
  {
   "cell_type": "markdown",
   "metadata": {},
   "source": [
    "##### Imports"
   ]
  },
  {
   "cell_type": "code",
   "execution_count": 211,
   "metadata": {},
   "outputs": [],
   "source": [
    "import pandas as pd\n",
    "import numpy as np\n",
    "import scipy\n",
    "import matplotlib.pyplot as plt"
   ]
  },
  {
   "cell_type": "markdown",
   "metadata": {},
   "source": [
    "## PART 1"
   ]
  },
  {
   "cell_type": "markdown",
   "metadata": {},
   "source": [
    "##### Load Data"
   ]
  },
  {
   "cell_type": "code",
   "execution_count": 43,
   "metadata": {},
   "outputs": [
    {
     "data": {
      "text/html": [
       "<div>\n",
       "<style scoped>\n",
       "    .dataframe tbody tr th:only-of-type {\n",
       "        vertical-align: middle;\n",
       "    }\n",
       "\n",
       "    .dataframe tbody tr th {\n",
       "        vertical-align: top;\n",
       "    }\n",
       "\n",
       "    .dataframe thead th {\n",
       "        text-align: right;\n",
       "    }\n",
       "</style>\n",
       "<table border=\"1\" class=\"dataframe\">\n",
       "  <thead>\n",
       "    <tr style=\"text-align: right;\">\n",
       "      <th></th>\n",
       "      <th>loan_amnt</th>\n",
       "      <th>funded_amnt</th>\n",
       "      <th>term</th>\n",
       "      <th>int_rate</th>\n",
       "      <th>grade</th>\n",
       "      <th>annual_inc</th>\n",
       "      <th>issue_d</th>\n",
       "      <th>dti</th>\n",
       "      <th>revol_bal</th>\n",
       "      <th>total_pymnt</th>\n",
       "      <th>loan_status</th>\n",
       "    </tr>\n",
       "  </thead>\n",
       "  <tbody>\n",
       "    <tr>\n",
       "      <th>0</th>\n",
       "      <td>5000.0</td>\n",
       "      <td>5000.0</td>\n",
       "      <td>36 months</td>\n",
       "      <td>10.65</td>\n",
       "      <td>B</td>\n",
       "      <td>24000.0</td>\n",
       "      <td>Dec-2011</td>\n",
       "      <td>27.65</td>\n",
       "      <td>13648.0</td>\n",
       "      <td>5861.071414</td>\n",
       "      <td>Fully Paid</td>\n",
       "    </tr>\n",
       "    <tr>\n",
       "      <th>1</th>\n",
       "      <td>2500.0</td>\n",
       "      <td>2500.0</td>\n",
       "      <td>60 months</td>\n",
       "      <td>15.27</td>\n",
       "      <td>C</td>\n",
       "      <td>30000.0</td>\n",
       "      <td>Dec-2011</td>\n",
       "      <td>1.00</td>\n",
       "      <td>1687.0</td>\n",
       "      <td>1008.710000</td>\n",
       "      <td>Charged Off</td>\n",
       "    </tr>\n",
       "    <tr>\n",
       "      <th>2</th>\n",
       "      <td>2400.0</td>\n",
       "      <td>2400.0</td>\n",
       "      <td>36 months</td>\n",
       "      <td>15.96</td>\n",
       "      <td>C</td>\n",
       "      <td>12252.0</td>\n",
       "      <td>Dec-2011</td>\n",
       "      <td>8.72</td>\n",
       "      <td>2956.0</td>\n",
       "      <td>3003.653644</td>\n",
       "      <td>Fully Paid</td>\n",
       "    </tr>\n",
       "    <tr>\n",
       "      <th>3</th>\n",
       "      <td>10000.0</td>\n",
       "      <td>10000.0</td>\n",
       "      <td>36 months</td>\n",
       "      <td>13.49</td>\n",
       "      <td>C</td>\n",
       "      <td>49200.0</td>\n",
       "      <td>Dec-2011</td>\n",
       "      <td>20.00</td>\n",
       "      <td>5598.0</td>\n",
       "      <td>12226.302212</td>\n",
       "      <td>Fully Paid</td>\n",
       "    </tr>\n",
       "    <tr>\n",
       "      <th>4</th>\n",
       "      <td>3000.0</td>\n",
       "      <td>3000.0</td>\n",
       "      <td>60 months</td>\n",
       "      <td>12.69</td>\n",
       "      <td>B</td>\n",
       "      <td>80000.0</td>\n",
       "      <td>Dec-2011</td>\n",
       "      <td>17.94</td>\n",
       "      <td>27783.0</td>\n",
       "      <td>3242.170000</td>\n",
       "      <td>Current</td>\n",
       "    </tr>\n",
       "  </tbody>\n",
       "</table>\n",
       "</div>"
      ],
      "text/plain": [
       "   loan_amnt  funded_amnt        term  int_rate grade  annual_inc   issue_d  \\\n",
       "0     5000.0       5000.0   36 months     10.65     B     24000.0  Dec-2011   \n",
       "1     2500.0       2500.0   60 months     15.27     C     30000.0  Dec-2011   \n",
       "2     2400.0       2400.0   36 months     15.96     C     12252.0  Dec-2011   \n",
       "3    10000.0      10000.0   36 months     13.49     C     49200.0  Dec-2011   \n",
       "4     3000.0       3000.0   60 months     12.69     B     80000.0  Dec-2011   \n",
       "\n",
       "     dti  revol_bal   total_pymnt  loan_status  \n",
       "0  27.65    13648.0   5861.071414   Fully Paid  \n",
       "1   1.00     1687.0   1008.710000  Charged Off  \n",
       "2   8.72     2956.0   3003.653644   Fully Paid  \n",
       "3  20.00     5598.0  12226.302212   Fully Paid  \n",
       "4  17.94    27783.0   3242.170000      Current  "
      ]
     },
     "execution_count": 43,
     "metadata": {},
     "output_type": "execute_result"
    }
   ],
   "source": [
    "cols = ['loan_amnt', \n",
    "           'funded_amnt', \n",
    "           'term', \n",
    "           'int_rate', \n",
    "           'grade', \n",
    "           'annual_inc', \n",
    "           'issue_d', \n",
    "           'dti', \n",
    "           'revol_bal', \n",
    "           'total_pymnt', \n",
    "           'loan_status']\n",
    "loan_data = pd.read_csv('loan.csv', parse_dates=True)\n",
    "loan_data = loan_data[columns]\n",
    "loan_data.head()"
   ]
  },
  {
   "cell_type": "code",
   "execution_count": 44,
   "metadata": {},
   "outputs": [
    {
     "data": {
      "text/plain": [
       "(887379, 11)"
      ]
     },
     "execution_count": 44,
     "metadata": {},
     "output_type": "execute_result"
    }
   ],
   "source": [
    "loan_data.shape"
   ]
  },
  {
   "cell_type": "code",
   "execution_count": 45,
   "metadata": {},
   "outputs": [
    {
     "data": {
      "text/plain": [
       "loan_amnt      float64\n",
       "funded_amnt    float64\n",
       "term            object\n",
       "int_rate       float64\n",
       "grade           object\n",
       "annual_inc     float64\n",
       "issue_d         object\n",
       "dti            float64\n",
       "revol_bal      float64\n",
       "total_pymnt    float64\n",
       "loan_status     object\n",
       "dtype: object"
      ]
     },
     "execution_count": 45,
     "metadata": {},
     "output_type": "execute_result"
    }
   ],
   "source": [
    "loan_data.dtypes"
   ]
  },
  {
   "cell_type": "code",
   "execution_count": 46,
   "metadata": {},
   "outputs": [
    {
     "data": {
      "text/plain": [
       "loan_amnt      0.000000\n",
       "funded_amnt    0.000000\n",
       "term           0.000000\n",
       "int_rate       0.000000\n",
       "grade          0.000000\n",
       "annual_inc     0.000005\n",
       "issue_d        0.000000\n",
       "dti            0.000000\n",
       "revol_bal      0.000000\n",
       "total_pymnt    0.000000\n",
       "loan_status    0.000000\n",
       "dtype: float64"
      ]
     },
     "execution_count": 46,
     "metadata": {},
     "output_type": "execute_result"
    }
   ],
   "source": [
    "pd.isnull(loan_data).mean()"
   ]
  },
  {
   "cell_type": "markdown",
   "metadata": {},
   "source": [
    "It looks like the annual income is the only feature with any null values."
   ]
  },
  {
   "cell_type": "markdown",
   "metadata": {},
   "source": [
    "Adding a day value into the dates, so that I can convert them to pandas date time objects "
   ]
  },
  {
   "cell_type": "code",
   "execution_count": 47,
   "metadata": {},
   "outputs": [
    {
     "data": {
      "text/plain": [
       "0    Dec-01-2011\n",
       "1    Dec-01-2011\n",
       "2    Dec-01-2011\n",
       "3    Dec-01-2011\n",
       "4    Dec-01-2011\n",
       "Name: issue_d, dtype: object"
      ]
     },
     "execution_count": 47,
     "metadata": {},
     "output_type": "execute_result"
    }
   ],
   "source": [
    "def add_day_value(date):\n",
    "    return date[:3] + '-01' + date[3:]\n",
    "\n",
    "loan_data['issue_d'] = loan_data['issue_d'].apply(add_day_value)\n",
    "loan_data['issue_d'].head()"
   ]
  },
  {
   "cell_type": "markdown",
   "metadata": {},
   "source": [
    "Here I parse unique dates and then map them to their corresponding pandas date time object"
   ]
  },
  {
   "cell_type": "code",
   "execution_count": 48,
   "metadata": {},
   "outputs": [
    {
     "data": {
      "text/plain": [
       "0   2011-12-01\n",
       "1   2011-12-01\n",
       "2   2011-12-01\n",
       "3   2011-12-01\n",
       "4   2011-12-01\n",
       "Name: issue_d, dtype: datetime64[ns]"
      ]
     },
     "execution_count": 48,
     "metadata": {},
     "output_type": "execute_result"
    }
   ],
   "source": [
    "unique_dates = loan_data['issue_d'].unique()\n",
    "unique_pd_dates = pd.to_datetime(unique_dates)\n",
    "date_map = dict(zip(unique_dates, unique_pd_dates))\n",
    "loan_data['issue_d'] = loan_data['issue_d'].map(date_map)\n",
    "loan_data['issue_d'].head()"
   ]
  },
  {
   "cell_type": "markdown",
   "metadata": {},
   "source": [
    "I want to be able to deal with the terms of the loans as a quantitative feature. Extracting just the month from the values and converting to ints."
   ]
  },
  {
   "cell_type": "code",
   "execution_count": 49,
   "metadata": {},
   "outputs": [
    {
     "data": {
      "text/plain": [
       "0    36\n",
       "1    60\n",
       "2    36\n",
       "3    36\n",
       "4    60\n",
       "Name: term, dtype: int64"
      ]
     },
     "execution_count": 49,
     "metadata": {},
     "output_type": "execute_result"
    }
   ],
   "source": [
    "def extract_term(term):\n",
    "    return int(term[:(term.index('m') - 1)])\n",
    "\n",
    "unique_terms = loan_data['term'].unique()\n",
    "unique_int_terms = np.vectorize(extract_term)(unique_terms)\n",
    "term_map = dict(zip(unique_terms, unique_int_terms))\n",
    "loan_data['term'] = loan_data['term'].map(term_map)\n",
    "loan_data['term'].head()"
   ]
  },
  {
   "cell_type": "markdown",
   "metadata": {},
   "source": [
    "#### Handle Null Values"
   ]
  },
  {
   "cell_type": "code",
   "execution_count": 51,
   "metadata": {},
   "outputs": [
    {
     "data": {
      "text/html": [
       "<div>\n",
       "<style scoped>\n",
       "    .dataframe tbody tr th:only-of-type {\n",
       "        vertical-align: middle;\n",
       "    }\n",
       "\n",
       "    .dataframe tbody tr th {\n",
       "        vertical-align: top;\n",
       "    }\n",
       "\n",
       "    .dataframe thead th {\n",
       "        text-align: right;\n",
       "    }\n",
       "</style>\n",
       "<table border=\"1\" class=\"dataframe\">\n",
       "  <thead>\n",
       "    <tr style=\"text-align: right;\">\n",
       "      <th></th>\n",
       "      <th>loan_amnt</th>\n",
       "      <th>funded_amnt</th>\n",
       "      <th>term</th>\n",
       "      <th>int_rate</th>\n",
       "      <th>grade</th>\n",
       "      <th>annual_inc</th>\n",
       "      <th>issue_d</th>\n",
       "      <th>dti</th>\n",
       "      <th>revol_bal</th>\n",
       "      <th>total_pymnt</th>\n",
       "      <th>loan_status</th>\n",
       "    </tr>\n",
       "  </thead>\n",
       "  <tbody>\n",
       "    <tr>\n",
       "      <th>42449</th>\n",
       "      <td>5000.0</td>\n",
       "      <td>5000.0</td>\n",
       "      <td>36</td>\n",
       "      <td>7.43</td>\n",
       "      <td>A</td>\n",
       "      <td>NaN</td>\n",
       "      <td>2007-08-01</td>\n",
       "      <td>1.0</td>\n",
       "      <td>0.0</td>\n",
       "      <td>5593.46</td>\n",
       "      <td>Does not meet the credit policy. Status:Fully ...</td>\n",
       "    </tr>\n",
       "    <tr>\n",
       "      <th>42450</th>\n",
       "      <td>7000.0</td>\n",
       "      <td>7000.0</td>\n",
       "      <td>36</td>\n",
       "      <td>7.75</td>\n",
       "      <td>A</td>\n",
       "      <td>NaN</td>\n",
       "      <td>2007-08-01</td>\n",
       "      <td>1.0</td>\n",
       "      <td>0.0</td>\n",
       "      <td>7867.53</td>\n",
       "      <td>Does not meet the credit policy. Status:Fully ...</td>\n",
       "    </tr>\n",
       "    <tr>\n",
       "      <th>42480</th>\n",
       "      <td>6700.0</td>\n",
       "      <td>6700.0</td>\n",
       "      <td>36</td>\n",
       "      <td>7.75</td>\n",
       "      <td>A</td>\n",
       "      <td>NaN</td>\n",
       "      <td>2007-07-01</td>\n",
       "      <td>1.0</td>\n",
       "      <td>0.0</td>\n",
       "      <td>7530.42</td>\n",
       "      <td>Does not meet the credit policy. Status:Fully ...</td>\n",
       "    </tr>\n",
       "    <tr>\n",
       "      <th>42533</th>\n",
       "      <td>6500.0</td>\n",
       "      <td>6500.0</td>\n",
       "      <td>36</td>\n",
       "      <td>8.38</td>\n",
       "      <td>A</td>\n",
       "      <td>NaN</td>\n",
       "      <td>2007-06-01</td>\n",
       "      <td>4.0</td>\n",
       "      <td>0.0</td>\n",
       "      <td>7373.83</td>\n",
       "      <td>Does not meet the credit policy. Status:Fully ...</td>\n",
       "    </tr>\n",
       "  </tbody>\n",
       "</table>\n",
       "</div>"
      ],
      "text/plain": [
       "       loan_amnt  funded_amnt  term  int_rate grade  annual_inc    issue_d  \\\n",
       "42449     5000.0       5000.0    36      7.43     A         NaN 2007-08-01   \n",
       "42450     7000.0       7000.0    36      7.75     A         NaN 2007-08-01   \n",
       "42480     6700.0       6700.0    36      7.75     A         NaN 2007-07-01   \n",
       "42533     6500.0       6500.0    36      8.38     A         NaN 2007-06-01   \n",
       "\n",
       "       dti  revol_bal  total_pymnt  \\\n",
       "42449  1.0        0.0      5593.46   \n",
       "42450  1.0        0.0      7867.53   \n",
       "42480  1.0        0.0      7530.42   \n",
       "42533  4.0        0.0      7373.83   \n",
       "\n",
       "                                             loan_status  \n",
       "42449  Does not meet the credit policy. Status:Fully ...  \n",
       "42450  Does not meet the credit policy. Status:Fully ...  \n",
       "42480  Does not meet the credit policy. Status:Fully ...  \n",
       "42533  Does not meet the credit policy. Status:Fully ...  "
      ]
     },
     "execution_count": 51,
     "metadata": {},
     "output_type": "execute_result"
    }
   ],
   "source": [
    "loan_data.loc[loan_data['annual_inc'].isnull()]"
   ]
  },
  {
   "cell_type": "code",
   "execution_count": 52,
   "metadata": {},
   "outputs": [
    {
     "data": {
      "text/plain": [
       "count    8.873750e+05\n",
       "mean     7.502759e+04\n",
       "std      6.469830e+04\n",
       "min      0.000000e+00\n",
       "25%      4.500000e+04\n",
       "50%      6.500000e+04\n",
       "75%      9.000000e+04\n",
       "max      9.500000e+06\n",
       "Name: annual_inc, dtype: float64"
      ]
     },
     "execution_count": 52,
     "metadata": {},
     "output_type": "execute_result"
    }
   ],
   "source": [
    "loan_data['annual_inc'].describe()"
   ]
  },
  {
   "cell_type": "code",
   "execution_count": 58,
   "metadata": {},
   "outputs": [
    {
     "data": {
      "text/plain": [
       "'Does not meet the credit policy. Status:Fully Paid'"
      ]
     },
     "execution_count": 58,
     "metadata": {},
     "output_type": "execute_result"
    }
   ],
   "source": [
    "loan_data.loc[loan_data['annual_inc'].isnull()]['loan_status'].iloc[0]"
   ]
  },
  {
   "cell_type": "markdown",
   "metadata": {},
   "source": [
    "There are only four rows with null values. I checked to make sure that these are not actually meant to be 0's because there are other actual 0 values in the data. Therefore, I am comfortable just dropping the data. "
   ]
  },
  {
   "cell_type": "code",
   "execution_count": 104,
   "metadata": {},
   "outputs": [],
   "source": [
    "loan_data = loan_data.dropna()"
   ]
  },
  {
   "cell_type": "markdown",
   "metadata": {},
   "source": [
    "#### Adding new features"
   ]
  },
  {
   "cell_type": "markdown",
   "metadata": {},
   "source": [
    "I am going to add two features that I think may be interesting to look at. Percent funded will potentially tell me if there is any trend with the amounts that are funded. Loan as a percent of the annual income could potentially also provide some insight into the \"requestor\" of the loan."
   ]
  },
  {
   "cell_type": "code",
   "execution_count": 64,
   "metadata": {},
   "outputs": [],
   "source": [
    "loan_data['percent_funded'] = loan_data['funded_amnt']/loan_data['loan_amnt']"
   ]
  },
  {
   "cell_type": "code",
   "execution_count": 106,
   "metadata": {},
   "outputs": [],
   "source": [
    "loan_data['loan_percent_of_income'] = loan_data['loan_amnt']/loan_data['annual_inc']"
   ]
  },
  {
   "cell_type": "markdown",
   "metadata": {},
   "source": [
    "## Exploring features"
   ]
  },
  {
   "cell_type": "code",
   "execution_count": 50,
   "metadata": {},
   "outputs": [
    {
     "data": {
      "text/plain": [
       "Current                                                601779\n",
       "Fully Paid                                             207723\n",
       "Charged Off                                             45248\n",
       "Late (31-120 days)                                      11591\n",
       "Issued                                                   8460\n",
       "In Grace Period                                          6253\n",
       "Late (16-30 days)                                        2357\n",
       "Does not meet the credit policy. Status:Fully Paid       1988\n",
       "Default                                                  1219\n",
       "Does not meet the credit policy. Status:Charged Off       761\n",
       "Name: loan_status, dtype: int64"
      ]
     },
     "execution_count": 50,
     "metadata": {},
     "output_type": "execute_result"
    }
   ],
   "source": [
    "loan_data['loan_status'].value_counts()"
   ]
  },
  {
   "cell_type": "markdown",
   "metadata": {},
   "source": [
    "#### First finding and plot"
   ]
  },
  {
   "cell_type": "code",
   "execution_count": 108,
   "metadata": {},
   "outputs": [
    {
     "data": {
      "text/html": [
       "<div>\n",
       "<style scoped>\n",
       "    .dataframe tbody tr th:only-of-type {\n",
       "        vertical-align: middle;\n",
       "    }\n",
       "\n",
       "    .dataframe tbody tr th {\n",
       "        vertical-align: top;\n",
       "    }\n",
       "\n",
       "    .dataframe thead th {\n",
       "        text-align: right;\n",
       "    }\n",
       "</style>\n",
       "<table border=\"1\" class=\"dataframe\">\n",
       "  <thead>\n",
       "    <tr style=\"text-align: right;\">\n",
       "      <th></th>\n",
       "      <th>loan_amnt</th>\n",
       "      <th>funded_amnt</th>\n",
       "      <th>term</th>\n",
       "      <th>int_rate</th>\n",
       "      <th>annual_inc</th>\n",
       "      <th>dti</th>\n",
       "      <th>revol_bal</th>\n",
       "      <th>total_pymnt</th>\n",
       "      <th>percent_funded</th>\n",
       "      <th>loan_percent_of_income</th>\n",
       "    </tr>\n",
       "    <tr>\n",
       "      <th>grade</th>\n",
       "      <th></th>\n",
       "      <th></th>\n",
       "      <th></th>\n",
       "      <th></th>\n",
       "      <th></th>\n",
       "      <th></th>\n",
       "      <th></th>\n",
       "      <th></th>\n",
       "      <th></th>\n",
       "      <th></th>\n",
       "    </tr>\n",
       "  </thead>\n",
       "  <tbody>\n",
       "    <tr>\n",
       "      <th>A</th>\n",
       "      <td>12000.0</td>\n",
       "      <td>12000.0</td>\n",
       "      <td>36</td>\n",
       "      <td>7.26</td>\n",
       "      <td>75000.0</td>\n",
       "      <td>15.080</td>\n",
       "      <td>12867.0</td>\n",
       "      <td>4808.210</td>\n",
       "      <td>1.0</td>\n",
       "      <td>0.170958</td>\n",
       "    </tr>\n",
       "    <tr>\n",
       "      <th>B</th>\n",
       "      <td>12000.0</td>\n",
       "      <td>12000.0</td>\n",
       "      <td>36</td>\n",
       "      <td>10.99</td>\n",
       "      <td>65000.0</td>\n",
       "      <td>16.860</td>\n",
       "      <td>11879.0</td>\n",
       "      <td>4915.490</td>\n",
       "      <td>1.0</td>\n",
       "      <td>0.190476</td>\n",
       "    </tr>\n",
       "    <tr>\n",
       "      <th>C</th>\n",
       "      <td>12000.0</td>\n",
       "      <td>12000.0</td>\n",
       "      <td>36</td>\n",
       "      <td>13.99</td>\n",
       "      <td>60000.0</td>\n",
       "      <td>18.350</td>\n",
       "      <td>11563.0</td>\n",
       "      <td>4521.880</td>\n",
       "      <td>1.0</td>\n",
       "      <td>0.214286</td>\n",
       "    </tr>\n",
       "    <tr>\n",
       "      <th>D</th>\n",
       "      <td>14000.0</td>\n",
       "      <td>14000.0</td>\n",
       "      <td>36</td>\n",
       "      <td>16.99</td>\n",
       "      <td>60000.0</td>\n",
       "      <td>19.450</td>\n",
       "      <td>11304.0</td>\n",
       "      <td>5114.575</td>\n",
       "      <td>1.0</td>\n",
       "      <td>0.242061</td>\n",
       "    </tr>\n",
       "    <tr>\n",
       "      <th>E</th>\n",
       "      <td>16850.0</td>\n",
       "      <td>16800.0</td>\n",
       "      <td>60</td>\n",
       "      <td>19.99</td>\n",
       "      <td>61000.0</td>\n",
       "      <td>20.050</td>\n",
       "      <td>12155.0</td>\n",
       "      <td>5169.230</td>\n",
       "      <td>1.0</td>\n",
       "      <td>0.284211</td>\n",
       "    </tr>\n",
       "    <tr>\n",
       "      <th>F</th>\n",
       "      <td>18625.0</td>\n",
       "      <td>18550.0</td>\n",
       "      <td>60</td>\n",
       "      <td>23.76</td>\n",
       "      <td>65000.0</td>\n",
       "      <td>19.695</td>\n",
       "      <td>12022.5</td>\n",
       "      <td>6491.285</td>\n",
       "      <td>1.0</td>\n",
       "      <td>0.298707</td>\n",
       "    </tr>\n",
       "    <tr>\n",
       "      <th>G</th>\n",
       "      <td>20000.0</td>\n",
       "      <td>20000.0</td>\n",
       "      <td>60</td>\n",
       "      <td>25.83</td>\n",
       "      <td>68000.0</td>\n",
       "      <td>19.280</td>\n",
       "      <td>11553.0</td>\n",
       "      <td>8186.450</td>\n",
       "      <td>1.0</td>\n",
       "      <td>0.300000</td>\n",
       "    </tr>\n",
       "  </tbody>\n",
       "</table>\n",
       "</div>"
      ],
      "text/plain": [
       "       loan_amnt  funded_amnt  term  int_rate  annual_inc     dti  revol_bal  \\\n",
       "grade                                                                          \n",
       "A        12000.0      12000.0    36      7.26     75000.0  15.080    12867.0   \n",
       "B        12000.0      12000.0    36     10.99     65000.0  16.860    11879.0   \n",
       "C        12000.0      12000.0    36     13.99     60000.0  18.350    11563.0   \n",
       "D        14000.0      14000.0    36     16.99     60000.0  19.450    11304.0   \n",
       "E        16850.0      16800.0    60     19.99     61000.0  20.050    12155.0   \n",
       "F        18625.0      18550.0    60     23.76     65000.0  19.695    12022.5   \n",
       "G        20000.0      20000.0    60     25.83     68000.0  19.280    11553.0   \n",
       "\n",
       "       total_pymnt  percent_funded  loan_percent_of_income  \n",
       "grade                                                       \n",
       "A         4808.210             1.0                0.170958  \n",
       "B         4915.490             1.0                0.190476  \n",
       "C         4521.880             1.0                0.214286  \n",
       "D         5114.575             1.0                0.242061  \n",
       "E         5169.230             1.0                0.284211  \n",
       "F         6491.285             1.0                0.298707  \n",
       "G         8186.450             1.0                0.300000  "
      ]
     },
     "execution_count": 108,
     "metadata": {},
     "output_type": "execute_result"
    }
   ],
   "source": [
    "loan_data.groupby('grade').median()"
   ]
  },
  {
   "cell_type": "code",
   "execution_count": 109,
   "metadata": {},
   "outputs": [
    {
     "data": {
      "image/png": "[encoded data removed]",
      "text/plain": [
       "<matplotlib.figure.Figure at 0x1169c6dd0>"
      ]
     },
     "metadata": {},
     "output_type": "display_data"
    }
   ],
   "source": [
    "grouped_by_grade = loan_data.groupby('grade').median()\n",
    "cols = grouped_by_grade.columns\n",
    "fig, ax = plt.subplots(5, 2, figsize=(15,10))\n",
    "for c, axis in zip(cols, ax.reshape(10,)):\n",
    "    axis.plot(range(grouped_by_grade.shape[0]), grouped_by_grade[c], label=c)\n",
    "    axis.set_xticklabels([' '] + list(grouped_by_grade.index.values))\n",
    "    axis.legend()"
   ]
  },
  {
   "cell_type": "code",
   "execution_count": 215,
   "metadata": {},
   "outputs": [
    {
     "data": {
      "text/plain": [
       "SpearmanrResult(correlation=1.0, pvalue=0.0)"
      ]
     },
     "execution_count": 215,
     "metadata": {},
     "output_type": "execute_result"
    }
   ],
   "source": [
    "scipy.stats.spearmanr(grouped_by_grade['loan_percent_of_income'])"
   ]
  },
  {
   "cell_type": "code",
   "execution_count": 216,
   "metadata": {},
   "outputs": [
    {
     "data": {
      "text/plain": [
       "SpearmanrResult(correlation=1.0, pvalue=0.0)"
      ]
     },
     "execution_count": 216,
     "metadata": {},
     "output_type": "execute_result"
    }
   ],
   "source": [
    "scipy.stats.spearmanr(grouped_by_grade['int_rate'])"
   ]
  },
  {
   "cell_type": "markdown",
   "metadata": {},
   "source": [
    "From the above plots and the spearman rank correlation, we can see that the loan percent of income as well as the interest rate are the only variables in our dataset that are strictly increasing/decreasing. However, the loan percent of income is the only variable that is independent with respect to the grade of the loan that is strictly increasing/decreasing."
   ]
  },
  {
   "cell_type": "markdown",
   "metadata": {},
   "source": [
    "#### Second finding and plot"
   ]
  },
  {
   "cell_type": "markdown",
   "metadata": {},
   "source": [
    "Now lets take a look at the distributions of the loans that are fully paid and the ones that are not. We will try to see if there are any material differences."
   ]
  },
  {
   "cell_type": "code",
   "execution_count": 110,
   "metadata": {},
   "outputs": [],
   "source": [
    "paid_off_loans = loan_data.loc[loan_data['loan_status'] == 'Fully Paid']\n",
    "late_or_default_loans = loan_data.loc[loan_data['loan_status'].isin(['Late (31-120 days)',\n",
    "                                                                     'Late (16-30 days)',\n",
    "                                                                     'Default'])]"
   ]
  },
  {
   "cell_type": "code",
   "execution_count": 113,
   "metadata": {},
   "outputs": [
    {
     "data": {
      "text/plain": [
       "loan_amnt                 13346.350910\n",
       "funded_amnt               13306.858172\n",
       "term                         40.638639\n",
       "int_rate                     13.274244\n",
       "annual_inc                74161.752983\n",
       "dti                          16.139156\n",
       "revol_bal                 15210.405063\n",
       "total_pymnt               15186.680773\n",
       "percent_funded                0.997854\n",
       "loan_percent_of_income        0.201311\n",
       "dtype: float64"
      ]
     },
     "execution_count": 113,
     "metadata": {},
     "output_type": "execute_result"
    }
   ],
   "source": [
    "paid_off_loans.mean()"
   ]
  },
  {
   "cell_type": "code",
   "execution_count": 114,
   "metadata": {},
   "outputs": [
    {
     "data": {
      "text/plain": [
       "loan_amnt                 15554.882310\n",
       "funded_amnt               15553.004879\n",
       "term                         45.404101\n",
       "int_rate                     15.968097\n",
       "annual_inc                70264.521581\n",
       "dti                          19.734772\n",
       "revol_bal                 15468.360585\n",
       "total_pymnt                6372.976256\n",
       "percent_funded                0.999913\n",
       "loan_percent_of_income        0.245687\n",
       "dtype: float64"
      ]
     },
     "execution_count": 114,
     "metadata": {},
     "output_type": "execute_result"
    }
   ],
   "source": [
    "late_or_default_loans.mean()"
   ]
  },
  {
   "cell_type": "code",
   "execution_count": 193,
   "metadata": {},
   "outputs": [
    {
     "data": {
      "image/png": "[encoded data removed]",
      "text/plain": [
       "<matplotlib.figure.Figure at 0x10f2f8590>"
      ]
     },
     "metadata": {},
     "output_type": "display_data"
    }
   ],
   "source": [
    "fig, ax = plt.subplots(5, 2, figsize=(15,20))\n",
    "num_col = paid_off_loans.head().mean().index\n",
    "for c, axis in zip(num_col, ax.reshape(10,)):\n",
    "    axis.hist(paid_off_loans[c], bins=25, normed=True, alpha=.5, label= 'Fully Paid')\n",
    "    axis.hist(late_or_default_loans[c], bins=25, normed=True, alpha=.5, label= 'Late/Default')\n",
    "    axis.set_title(c)\n",
    "    axis.legend()"
   ]
  },
  {
   "cell_type": "code",
   "execution_count": 213,
   "metadata": {},
   "outputs": [
    {
     "data": {
      "image/png": "[encoded data removed]",
      "text/plain": [
       "<matplotlib.figure.Figure at 0x117b01e10>"
      ]
     },
     "metadata": {},
     "output_type": "display_data"
    }
   ],
   "source": [
    "paid_dti = paid_off_loans['dti'].sort_values()\n",
    "non_paid_dti = late_or_default_loans['dti'].sort_values()\n",
    "\n",
    "def ecdf(x):\n",
    "    xs = np.sort(x)\n",
    "    ys = np.arange(1, len(xs)+1)/float(len(xs))\n",
    "    return xs, ys\n",
    "\n",
    "fig, ax = plt.subplots(figsize=(10,6))\n",
    "paid_x, paid_y = ecdf(paid_dti)\n",
    "non_paid_x, non_paid_y = ecdf(non_paid_dti)\n",
    "ax.plot(paid_x, paid_y, label='Paid Loans')\n",
    "ax.plot(non_paid_x, non_paid_y, label='Not Paid Loans')\n",
    "ax.set_title('CDF of Debt to Income Ratio')\n",
    "ax.legend();"
   ]
  },
  {
   "cell_type": "code",
   "execution_count": 214,
   "metadata": {},
   "outputs": [
    {
     "data": {
      "text/plain": [
       "Ks_2sampResult(statistic=0.17088437781489613, pvalue=0.0)"
      ]
     },
     "execution_count": 214,
     "metadata": {},
     "output_type": "execute_result"
    }
   ],
   "source": [
    "scipy.stats.ks_2samp(paid_dti, non_paid_dti)"
   ]
  },
  {
   "cell_type": "markdown",
   "metadata": {},
   "source": [
    "Based on the above analysis of the distributions for paid loans versus not paid loans. I can conclude that they are not from the same distribution."
   ]
  },
  {
   "cell_type": "markdown",
   "metadata": {},
   "source": [
    "## PART 2"
   ]
  },
  {
   "cell_type": "markdown",
   "metadata": {},
   "source": [
    "I am looking for all of the 36 month term loans that I have at least 36 months of data on. In order to do this I need to first locate all of the loans that have a 36 month issuing period. Next, I have to drop any current loans as I have yet to find the outcome of the loan. As a sanity check, I make sure that the max date in our subset of the data is at least 36 months prior to the max date in the original data."
   ]
  },
  {
   "cell_type": "code",
   "execution_count": 147,
   "metadata": {},
   "outputs": [
    {
     "data": {
      "text/html": [
       "<div>\n",
       "<style scoped>\n",
       "    .dataframe tbody tr th:only-of-type {\n",
       "        vertical-align: middle;\n",
       "    }\n",
       "\n",
       "    .dataframe tbody tr th {\n",
       "        vertical-align: top;\n",
       "    }\n",
       "\n",
       "    .dataframe thead th {\n",
       "        text-align: right;\n",
       "    }\n",
       "</style>\n",
       "<table border=\"1\" class=\"dataframe\">\n",
       "  <thead>\n",
       "    <tr style=\"text-align: right;\">\n",
       "      <th></th>\n",
       "      <th>loan_amnt</th>\n",
       "      <th>funded_amnt</th>\n",
       "      <th>term</th>\n",
       "      <th>int_rate</th>\n",
       "      <th>grade</th>\n",
       "      <th>annual_inc</th>\n",
       "      <th>issue_d</th>\n",
       "      <th>dti</th>\n",
       "      <th>revol_bal</th>\n",
       "      <th>total_pymnt</th>\n",
       "      <th>loan_status</th>\n",
       "      <th>percent_funded</th>\n",
       "      <th>loan_percent_of_income</th>\n",
       "    </tr>\n",
       "  </thead>\n",
       "  <tbody>\n",
       "    <tr>\n",
       "      <th>0</th>\n",
       "      <td>5000.0</td>\n",
       "      <td>5000.0</td>\n",
       "      <td>36</td>\n",
       "      <td>10.65</td>\n",
       "      <td>B</td>\n",
       "      <td>24000.0</td>\n",
       "      <td>2011-12-01</td>\n",
       "      <td>27.65</td>\n",
       "      <td>13648.0</td>\n",
       "      <td>5861.071414</td>\n",
       "      <td>Fully Paid</td>\n",
       "      <td>1.0</td>\n",
       "      <td>0.208333</td>\n",
       "    </tr>\n",
       "    <tr>\n",
       "      <th>2</th>\n",
       "      <td>2400.0</td>\n",
       "      <td>2400.0</td>\n",
       "      <td>36</td>\n",
       "      <td>15.96</td>\n",
       "      <td>C</td>\n",
       "      <td>12252.0</td>\n",
       "      <td>2011-12-01</td>\n",
       "      <td>8.72</td>\n",
       "      <td>2956.0</td>\n",
       "      <td>3003.653644</td>\n",
       "      <td>Fully Paid</td>\n",
       "      <td>1.0</td>\n",
       "      <td>0.195886</td>\n",
       "    </tr>\n",
       "    <tr>\n",
       "      <th>3</th>\n",
       "      <td>10000.0</td>\n",
       "      <td>10000.0</td>\n",
       "      <td>36</td>\n",
       "      <td>13.49</td>\n",
       "      <td>C</td>\n",
       "      <td>49200.0</td>\n",
       "      <td>2011-12-01</td>\n",
       "      <td>20.00</td>\n",
       "      <td>5598.0</td>\n",
       "      <td>12226.302212</td>\n",
       "      <td>Fully Paid</td>\n",
       "      <td>1.0</td>\n",
       "      <td>0.203252</td>\n",
       "    </tr>\n",
       "    <tr>\n",
       "      <th>5</th>\n",
       "      <td>5000.0</td>\n",
       "      <td>5000.0</td>\n",
       "      <td>36</td>\n",
       "      <td>7.90</td>\n",
       "      <td>A</td>\n",
       "      <td>36000.0</td>\n",
       "      <td>2011-12-01</td>\n",
       "      <td>11.20</td>\n",
       "      <td>7963.0</td>\n",
       "      <td>5631.377753</td>\n",
       "      <td>Fully Paid</td>\n",
       "      <td>1.0</td>\n",
       "      <td>0.138889</td>\n",
       "    </tr>\n",
       "    <tr>\n",
       "      <th>7</th>\n",
       "      <td>3000.0</td>\n",
       "      <td>3000.0</td>\n",
       "      <td>36</td>\n",
       "      <td>18.64</td>\n",
       "      <td>E</td>\n",
       "      <td>48000.0</td>\n",
       "      <td>2011-12-01</td>\n",
       "      <td>5.35</td>\n",
       "      <td>8221.0</td>\n",
       "      <td>3938.144334</td>\n",
       "      <td>Fully Paid</td>\n",
       "      <td>1.0</td>\n",
       "      <td>0.062500</td>\n",
       "    </tr>\n",
       "  </tbody>\n",
       "</table>\n",
       "</div>"
      ],
      "text/plain": [
       "   loan_amnt  funded_amnt  term  int_rate grade  annual_inc    issue_d    dti  \\\n",
       "0     5000.0       5000.0    36     10.65     B     24000.0 2011-12-01  27.65   \n",
       "2     2400.0       2400.0    36     15.96     C     12252.0 2011-12-01   8.72   \n",
       "3    10000.0      10000.0    36     13.49     C     49200.0 2011-12-01  20.00   \n",
       "5     5000.0       5000.0    36      7.90     A     36000.0 2011-12-01  11.20   \n",
       "7     3000.0       3000.0    36     18.64     E     48000.0 2011-12-01   5.35   \n",
       "\n",
       "   revol_bal   total_pymnt loan_status  percent_funded  loan_percent_of_income  \n",
       "0    13648.0   5861.071414  Fully Paid             1.0                0.208333  \n",
       "2     2956.0   3003.653644  Fully Paid             1.0                0.195886  \n",
       "3     5598.0  12226.302212  Fully Paid             1.0                0.203252  \n",
       "5     7963.0   5631.377753  Fully Paid             1.0                0.138889  \n",
       "7     8221.0   3938.144334  Fully Paid             1.0                0.062500  "
      ]
     },
     "execution_count": 147,
     "metadata": {},
     "output_type": "execute_result"
    }
   ],
   "source": [
    "loans_36 = loan_data[loan_data['term'] == 36]\n",
    "last_date = loans_36[loans_36['loan_status'] == 'Current']['issue_d'].min()\n",
    "loans_36 = loans_36[loans_36['issue_d'] < last_date]\n",
    "loans_36.head()"
   ]
  },
  {
   "cell_type": "code",
   "execution_count": 148,
   "metadata": {},
   "outputs": [
    {
     "data": {
      "text/plain": [
       "Timestamp('2012-11-01 00:00:00')"
      ]
     },
     "execution_count": 148,
     "metadata": {},
     "output_type": "execute_result"
    }
   ],
   "source": [
    "loans_36['issue_d'].max()"
   ]
  },
  {
   "cell_type": "markdown",
   "metadata": {},
   "source": [
    "##### Question 1"
   ]
  },
  {
   "cell_type": "code",
   "execution_count": 150,
   "metadata": {},
   "outputs": [
    {
     "data": {
      "text/plain": [
       "Fully Paid                                             0.843282\n",
       "Charged Off                                            0.121317\n",
       "Does not meet the credit policy. Status:Fully Paid     0.025429\n",
       "Does not meet the credit policy. Status:Charged Off    0.009246\n",
       "Late (31-120 days)                                     0.000613\n",
       "Default                                                0.000100\n",
       "Late (16-30 days)                                      0.000014\n",
       "Name: loan_status, dtype: float64"
      ]
     },
     "execution_count": 150,
     "metadata": {},
     "output_type": "execute_result"
    }
   ],
   "source": [
    "loans_36['loan_status'].value_counts()/loans_36.shape[0]"
   ]
  },
  {
   "cell_type": "markdown",
   "metadata": {},
   "source": [
    "84% of the loans have been fully paid."
   ]
  },
  {
   "cell_type": "markdown",
   "metadata": {},
   "source": [
    "##### Question 2"
   ]
  },
  {
   "cell_type": "code",
   "execution_count": 153,
   "metadata": {},
   "outputs": [
    {
     "data": {
      "text/plain": [
       "0    2011\n",
       "2    2011\n",
       "3    2011\n",
       "5    2011\n",
       "7    2011\n",
       "Name: year, dtype: int64"
      ]
     },
     "execution_count": 153,
     "metadata": {},
     "output_type": "execute_result"
    }
   ],
   "source": [
    "loans_36['year'] = loans_36['issue_d'].dt.year\n",
    "loans_36['year'].head()"
   ]
  },
  {
   "cell_type": "code",
   "execution_count": 156,
   "metadata": {},
   "outputs": [
    {
     "data": {
      "text/plain": [
       "(2007, 'G')"
      ]
     },
     "execution_count": 156,
     "metadata": {},
     "output_type": "execute_result"
    }
   ],
   "source": [
    "loans_36['defaulted'] = (loans_36['loan_status'] != 'Fully Paid')\n",
    "loans_36.groupby(['year', 'grade'])['defaulted'].mean().idxmax()"
   ]
  },
  {
   "cell_type": "markdown",
   "metadata": {},
   "source": [
    "2007 loans that are grade G have the highest default rate."
   ]
  },
  {
   "cell_type": "markdown",
   "metadata": {},
   "source": [
    "##### Question 3"
   ]
  },
  {
   "cell_type": "code",
   "execution_count": 157,
   "metadata": {},
   "outputs": [],
   "source": [
    "fully_paid_36 = loans_36[~loans_36['defaulted']]"
   ]
  },
  {
   "cell_type": "code",
   "execution_count": 173,
   "metadata": {},
   "outputs": [
    {
     "name": "stderr",
     "output_type": "stream",
     "text": [
      "/Library/Frameworks/Python.framework/Versions/2.7/lib/python2.7/site-packages/ipykernel_launcher.py:6: SettingWithCopyWarning: \n",
      "A value is trying to be set on a copy of a slice from a DataFrame.\n",
      "Try using .loc[row_indexer,col_indexer] = value instead\n",
      "\n",
      "See the caveats in the documentation: http://pandas.pydata.org/pandas-docs/stable/indexing.html#indexing-view-versus-copy\n",
      "  \n",
      "/Library/Frameworks/Python.framework/Versions/2.7/lib/python2.7/site-packages/ipykernel_launcher.py:7: SettingWithCopyWarning: \n",
      "A value is trying to be set on a copy of a slice from a DataFrame.\n",
      "Try using .loc[row_indexer,col_indexer] = value instead\n",
      "\n",
      "See the caveats in the documentation: http://pandas.pydata.org/pandas-docs/stable/indexing.html#indexing-view-versus-copy\n",
      "  import sys\n"
     ]
    }
   ],
   "source": [
    "def annualized_rate_return(row):\n",
    "    total_pymnt = float(row['total_pymnt'])\n",
    "    funded_amnt = float(row['funded_amnt'])\n",
    "    return ((total_pymnt/funded_amnt) - 1.0)**(1.0/3)\n",
    "\n",
    "fully_paid_36['funded_amnt'] = fully_paid_36['funded_amnt'] + 0.0001\n",
    "fully_paid_36['ann_return'] = fully_paid_36.apply(annualized_rate_return, axis=1)"
   ]
  },
  {
   "cell_type": "code",
   "execution_count": 174,
   "metadata": {},
   "outputs": [
    {
     "data": {
      "text/html": [
       "<div>\n",
       "<style scoped>\n",
       "    .dataframe tbody tr th:only-of-type {\n",
       "        vertical-align: middle;\n",
       "    }\n",
       "\n",
       "    .dataframe tbody tr th {\n",
       "        vertical-align: top;\n",
       "    }\n",
       "\n",
       "    .dataframe thead th {\n",
       "        text-align: right;\n",
       "    }\n",
       "</style>\n",
       "<table border=\"1\" class=\"dataframe\">\n",
       "  <thead>\n",
       "    <tr style=\"text-align: right;\">\n",
       "      <th>grade</th>\n",
       "      <th>A</th>\n",
       "      <th>B</th>\n",
       "      <th>C</th>\n",
       "      <th>D</th>\n",
       "      <th>E</th>\n",
       "      <th>F</th>\n",
       "      <th>G</th>\n",
       "    </tr>\n",
       "    <tr>\n",
       "      <th>year</th>\n",
       "      <th></th>\n",
       "      <th></th>\n",
       "      <th></th>\n",
       "      <th></th>\n",
       "      <th></th>\n",
       "      <th></th>\n",
       "      <th></th>\n",
       "    </tr>\n",
       "  </thead>\n",
       "  <tbody>\n",
       "    <tr>\n",
       "      <th>2007</th>\n",
       "      <td>0.446894</td>\n",
       "      <td>0.506901</td>\n",
       "      <td>0.534307</td>\n",
       "      <td>0.556568</td>\n",
       "      <td>0.585440</td>\n",
       "      <td>0.559132</td>\n",
       "      <td>NaN</td>\n",
       "    </tr>\n",
       "    <tr>\n",
       "      <th>2008</th>\n",
       "      <td>0.468094</td>\n",
       "      <td>0.518281</td>\n",
       "      <td>0.547020</td>\n",
       "      <td>0.581443</td>\n",
       "      <td>0.595186</td>\n",
       "      <td>0.644838</td>\n",
       "      <td>0.671471</td>\n",
       "    </tr>\n",
       "    <tr>\n",
       "      <th>2009</th>\n",
       "      <td>0.478605</td>\n",
       "      <td>0.531018</td>\n",
       "      <td>0.564607</td>\n",
       "      <td>0.587942</td>\n",
       "      <td>0.612660</td>\n",
       "      <td>0.608160</td>\n",
       "      <td>0.621076</td>\n",
       "    </tr>\n",
       "    <tr>\n",
       "      <th>2010</th>\n",
       "      <td>0.445555</td>\n",
       "      <td>0.518006</td>\n",
       "      <td>0.563983</td>\n",
       "      <td>0.593180</td>\n",
       "      <td>0.611695</td>\n",
       "      <td>0.628146</td>\n",
       "      <td>0.671977</td>\n",
       "    </tr>\n",
       "    <tr>\n",
       "      <th>2011</th>\n",
       "      <td>0.445568</td>\n",
       "      <td>0.522815</td>\n",
       "      <td>0.567758</td>\n",
       "      <td>0.597002</td>\n",
       "      <td>0.632154</td>\n",
       "      <td>0.639588</td>\n",
       "      <td>0.683785</td>\n",
       "    </tr>\n",
       "    <tr>\n",
       "      <th>2012</th>\n",
       "      <td>0.459247</td>\n",
       "      <td>0.544367</td>\n",
       "      <td>0.583836</td>\n",
       "      <td>0.622803</td>\n",
       "      <td>0.654422</td>\n",
       "      <td>0.658524</td>\n",
       "      <td>0.691859</td>\n",
       "    </tr>\n",
       "  </tbody>\n",
       "</table>\n",
       "</div>"
      ],
      "text/plain": [
       "grade         A         B         C         D         E         F         G\n",
       "year                                                                       \n",
       "2007   0.446894  0.506901  0.534307  0.556568  0.585440  0.559132       NaN\n",
       "2008   0.468094  0.518281  0.547020  0.581443  0.595186  0.644838  0.671471\n",
       "2009   0.478605  0.531018  0.564607  0.587942  0.612660  0.608160  0.621076\n",
       "2010   0.445555  0.518006  0.563983  0.593180  0.611695  0.628146  0.671977\n",
       "2011   0.445568  0.522815  0.567758  0.597002  0.632154  0.639588  0.683785\n",
       "2012   0.459247  0.544367  0.583836  0.622803  0.654422  0.658524  0.691859"
      ]
     },
     "execution_count": 174,
     "metadata": {},
     "output_type": "execute_result"
    }
   ],
   "source": [
    "fully_paid_36.groupby(['year', 'grade'])['ann_return'].mean().unstack('grade')"
   ]
  },
  {
   "cell_type": "code",
   "execution_count": 217,
   "metadata": {},
   "outputs": [
    {
     "data": {
      "image/png": "[encoded data removed]",
      "text/plain": [
       "<matplotlib.figure.Figure at 0x10e5db910>"
      ]
     },
     "metadata": {},
     "output_type": "display_data"
    }
   ],
   "source": [
    "plt.imshow(fully_paid_36.groupby(['year', 'grade'])['ann_return'].mean().unstack('grade'));"
   ]
  },
  {
   "cell_type": "markdown",
   "metadata": {},
   "source": [
    "The above matrix lists the annualized returns for each loan grouped by year and grade. I have also included a visualization to represent the findings."
   ]
  }
 ],
 "metadata": {
  "kernelspec": {
   "display_name": "Python 3",
   "language": "python",
   "name": "python3"
  },
  "language_info": {
   "codemirror_mode": {
    "name": "ipython",
    "version": 2
   },
   "file_extension": ".py",
   "mimetype": "text/x-python",
   "name": "python",
   "nbconvert_exporter": "python",
   "pygments_lexer": "ipython2",
   "version": "2.7.13"
  }
 },
 "nbformat": 4,
 "nbformat_minor": 2
}
